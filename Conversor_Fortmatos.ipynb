{
 "cells": [
  {
   "cell_type": "markdown",
   "source": [
    "# **Entrega 1 | Métodos númericos**\n",
    "\n",
    "## **Integrantes:**\n",
    "* Maria Alejandra Bedoya\n",
    "* Juan José Ruiz\n",
    "* Estiven Cano Urrego\n",
    "\n",
    "---\n",
    "\n"
   ],
   "metadata": {}
  },
  {
   "cell_type": "markdown",
   "source": [
    "### **Librerias y métodos utilizados**"
   ],
   "metadata": {}
  },
  {
   "cell_type": "code",
   "execution_count": 1,
   "source": [
    "def fraccion(frac):\r\n",
    "    '''\r\n",
    "    Convierte la fracción a binario\r\n",
    "\r\n",
    "    Parameters\r\n",
    "    ----------\r\n",
    "    frac : float\r\n",
    "    Fracción del número \r\n",
    "\r\n",
    "    Returns\r\n",
    "    -------\r\n",
    "    String:\r\n",
    "    Devuelve el valor de la fracción en su equivalente binario. \r\n",
    "    '''\r\n",
    "    \r\n",
    "    # String para almacenar el número binario\r\n",
    "    binary = str()\r\n",
    "\r\n",
    "    # Iterar hasta que frac == 0\r\n",
    "    while frac:\r\n",
    "\r\n",
    "        # Multiplicar frac * 2.\r\n",
    "        frac *= 2\r\n",
    "\r\n",
    "        # Almacena la parte entera \r\n",
    "        # de frac en entero.\r\n",
    "        if frac >= 1:\r\n",
    "            entero = 1\r\n",
    "            frac -= 1\r\n",
    "        else:\r\n",
    "            entero = 0\r\n",
    "\r\n",
    "        # Añade el entero al número binario\r\n",
    "        binary += str(entero)\r\n",
    "\r\n",
    "    # Retorna un string con el valor en binario. \r\n",
    "    return binary\r\n",
    "\r\n",
    "def convertirMant(n):\r\n",
    " \r\n",
    "    # Contador del multiplicador\r\n",
    "    count = -1\r\n",
    " \r\n",
    "    ## Inicialización del valor de la mantisa\r\n",
    "    mant = 0\r\n",
    "    \r\n",
    "    # Itera cada uno de los bits en la mantisa\r\n",
    "    for i in n:\r\n",
    "        \r\n",
    "        # Si es 1 se multiplica por la potencia negativa\r\n",
    "        # de 2 según el valor del contador\r\n",
    "        mant += (int(i) * pow(2, count))\r\n",
    " \r\n",
    "        # Decrementa el contador en cada iteración\r\n",
    "        count -= 1\r\n",
    "         \r\n",
    "    # Retorna la mantisa y suma el 1 necesario para su interpretación. \r\n",
    "    return (mant + 1)\r\n",
    "\r\n",
    "\r\n",
    "def getLetterHex(value):\r\n",
    "    '''\r\n",
    "    Retorna la letra equivalente en base 16 de un número\r\n",
    "    '''\r\n",
    "    value = str(value)\r\n",
    "    equivalences = {\r\n",
    "        \"10\": \"A\",\r\n",
    "        \"11\": \"B\",\r\n",
    "        \"12\": \"C\",\r\n",
    "        \"13\": \"D\",\r\n",
    "        \"14\": \"E\",\r\n",
    "        \"15\": \"F\",\r\n",
    "    }\r\n",
    "    if value in equivalences:\r\n",
    "        return equivalences[value]\r\n",
    "    else:\r\n",
    "        return value\r\n",
    "    \r\n",
    "    \r\n",
    "def getNumberHex(value):\r\n",
    "    '''\r\n",
    "    Retorna el número equivalente en base 10 de una letra en base 16\r\n",
    "    '''\r\n",
    "    value = str(value).upper()\r\n",
    "    equivalences = {\r\n",
    "        \"A\" : \"10\",\r\n",
    "        \"B\" : \"11\",\r\n",
    "        \"C\" : \"12\",\r\n",
    "        \"D\" : \"13\",\r\n",
    "        \"E\" : \"14\",\r\n",
    "        \"F\" : \"15\",\r\n",
    "    }\r\n",
    "    if value in equivalences:\r\n",
    "        return equivalences[value]\r\n",
    "    else:\r\n",
    "        return value\r\n",
    "\r\n",
    "def is_hex(s):\r\n",
    "    '''\r\n",
    "    Retorna verdadero si el número ingresado es hexadecimal\r\n",
    "    '''\r\n",
    "    s = s.upper()\r\n",
    "    hex_digits = set(\"0123456789ABCDEF.\")\r\n",
    "    for char in s:\r\n",
    "        if not (char in hex_digits):\r\n",
    "            return False\r\n",
    "    return True"
   ],
   "outputs": [],
   "metadata": {}
  },
  {
   "cell_type": "markdown",
   "source": [
    "### **1. Decimal a binario**"
   ],
   "metadata": {}
  },
  {
   "cell_type": "code",
   "execution_count": 2,
   "source": [
    "def decimalBinario(num, n=0):\r\n",
    "    '''\r\n",
    "    Este método convierte un número decimal y devuelve su valor\r\n",
    "    equivalente en binario. \r\n",
    "\r\n",
    "    'Para imprimir la parte fraccionaria ingrese la longitud deseada como segundo parametro'\r\n",
    "\r\n",
    "    Parameters\r\n",
    "    ----------\r\n",
    "    num : int\r\n",
    "    Cadena de caracteres, debe ser un número en formato decimal. \r\n",
    "    n: int\r\n",
    "    Precision de cifras en la parte fraccionaria.\r\n",
    "\r\n",
    "    Returns\r\n",
    "    -------\r\n",
    "    String\r\n",
    "    Devuelve el valor binario de número decimal ingresado\r\n",
    "    '''\r\n",
    "\r\n",
    "    binario= ''\r\n",
    "\r\n",
    "    # Parte entera del número\r\n",
    "    entero= int(num)\r\n",
    "    # Parte fraccionaria del número\r\n",
    "    fraccion= num-entero\r\n",
    "\r\n",
    "    # Mientras que entero != 0\r\n",
    "    while(entero): \r\n",
    "        rem = entero % 2\r\n",
    "        binario += str(rem)\r\n",
    "        entero //= 2\r\n",
    "    # Invierte el orden de binario para quedar\r\n",
    "    binario = binario[::-1]\r\n",
    "    # Agrega el punto para separar la parte entera de la fracción     \r\n",
    "    binario += '.'\r\n",
    "\r\n",
    "    # Cálculo para la parte fraccionaria\r\n",
    "    while(n): \r\n",
    "        # Obtiene el bit de la fracción\r\n",
    "        fraccion *= 2\r\n",
    "        bit_fraccion = int(fraccion)\r\n",
    "        if(bit_fraccion == 1): \r\n",
    "            fraccion -= bit_fraccion\r\n",
    "            binario += '1'\r\n",
    "        else: \r\n",
    "            binario += '0'\r\n",
    "        n -= 1\r\n",
    "    return binario\r\n",
    "\r\n",
    "print(decimalBinario(63,3))"
   ],
   "outputs": [
    {
     "output_type": "stream",
     "name": "stdout",
     "text": [
      "111111.000\n"
     ]
    }
   ],
   "metadata": {}
  },
  {
   "cell_type": "markdown",
   "source": [
    "### **2. Binario a decimal**"
   ],
   "metadata": {}
  },
  {
   "cell_type": "code",
   "execution_count": 3,
   "source": [
    "def binarioDecimal(bin, length):\r\n",
    "    \"\"\"\r\n",
    "    Este método convierte un número binario y devuelve su valor\r\n",
    "    equivalente en decimal.\r\n",
    "\r\n",
    "    Parameters\r\n",
    "    ----------\r\n",
    "    bin : String\r\n",
    "    Cadena de caracteres, debe ser un número en formato binario.\r\n",
    "\r\n",
    "    Returns\r\n",
    "    -------\r\n",
    "    String\r\n",
    "    Devuelve el valor decimal del número binario ingresado.\r\n",
    "    \"\"\"\r\n",
    "    \r\n",
    "    #Variables necesarias\r\n",
    "    dec = 0\r\n",
    "    frac = 0\r\n",
    "    mult = 1\r\n",
    "    # Asigna el indice donde se encuentra el punto\r\n",
    "    punto = bin.find(\".\")\r\n",
    "\r\n",
    "    # Si el número no tiene punto, lo toma como si\r\n",
    "    # estuviera al final del binario\r\n",
    "    if punto == -1:\r\n",
    "        punto = length\r\n",
    "\r\n",
    "    # Empieza en el primer número hacia la izquiera del punto  \r\n",
    "    # hasta terminar de recorrer el número\r\n",
    "    for i in range(punto - 1, -1, -1):\r\n",
    "        # Multiplica el binario si es diferente de 0\r\n",
    "        dec += (int(bin[i]) - int(\"0\")) * mult\r\n",
    "        mult *= 2\r\n",
    "\r\n",
    "    # Inicializa el multiplicador en 2\r\n",
    "    mult = 2\r\n",
    "\r\n",
    "    # Empieza desde el primer número a la derecha del punto\r\n",
    "    # hasta su longitud máxima. \r\n",
    "    for i in range(punto + 1, length):\r\n",
    "        # Suma el valor equivalente si el bit es diferente de 0\r\n",
    "        frac += (int(bin[i]) - int(\"0\")) / mult\r\n",
    "        mult *= 2.0\r\n",
    "    \r\n",
    "    # Retorna el resultado sumando la parte entera y fraccionaria\r\n",
    "    return dec + frac\r\n",
    "    \r\n",
    "n = \"111111\"\r\n",
    "\r\n",
    "binarioDecimal(n, len(n))"
   ],
   "outputs": [
    {
     "output_type": "execute_result",
     "data": {
      "text/plain": [
       "63"
      ]
     },
     "metadata": {},
     "execution_count": 3
    }
   ],
   "metadata": {}
  },
  {
   "cell_type": "markdown",
   "source": [
    "### **3. Decimal a IEEE 754 de 32 bits**"
   ],
   "metadata": {}
  },
  {
   "cell_type": "markdown",
   "source": [
    "### Para definir el método es necesario definir las partes de número flotante.\n"
   ],
   "metadata": {}
  },
  {
   "cell_type": "code",
   "execution_count": 4,
   "source": [
    "def decimalIEEE32(num):\r\n",
    "    '''\r\n",
    "    Función que obtiene el bit de signo,\r\n",
    "    el exponente y la mantisa de un número\r\n",
    "    decimal. \r\n",
    "\r\n",
    "    Parameters\r\n",
    "    ----------\r\n",
    "    bin : String\r\n",
    "    Cadena de caracteres, debe ser un número en formato decimal.\r\n",
    "\r\n",
    "    Returns\r\n",
    "    -------\r\n",
    "    String:\r\n",
    "    Devuelve el valor del número decimal en formato IEEE de 64 bits.\r\n",
    "    \r\n",
    "    '''\r\n",
    "\r\n",
    "    # Asigna 0 por defecto al bit de signo\r\n",
    "    signo = 0\r\n",
    "\r\n",
    "    # Si el número es negativo asigna 1 al \r\n",
    "    # bit de signo\r\n",
    "    if num < 0:\r\n",
    "        signo = 1\r\n",
    "    # Convierte el número dado a su valor absoluto.\r\n",
    "    num = abs(num)\r\n",
    "\r\n",
    "    # Convierte la parte entera a binario\r\n",
    "    # desde el bit dos para eliminar el '0b' por defecto\r\n",
    "    entero = bin(int(num))[2:]\r\n",
    "\r\n",
    "    # Convierte la parte fraccionaria a binario\r\n",
    "    frac = fraccion(num - int(num))\r\n",
    "\r\n",
    "    # Obtiene el indice donde el bit fue alto por\r\n",
    "    # primera vez en la parte entera del número. \r\n",
    "    ind = entero.find(\"1\")\r\n",
    "\r\n",
    "    # Encontramos el exponente, se convierte a \r\n",
    "    # binario y se elimina el '0b'\r\n",
    "    exp = bin((len(entero) - ind - 1) + 127)[2:]\r\n",
    "\r\n",
    "\r\n",
    "    # Se obtiene la mantisa haciendo uso \r\n",
    "    # de la parte entera y fraccionaria,\r\n",
    "    # Se ignoras los ceros a la izquierda del entero\r\n",
    "    mant = entero[ind + 1 :] + frac\r\n",
    "\r\n",
    "    # Añade 0 hasta completar los 23 bits de la mantisa\r\n",
    "    mant = mant + (\"0\" * (23 - len(mant)))\r\n",
    "\r\n",
    "    # Retorna el número en formato IEEE de 32 bits\r\n",
    "    return str(signo) + \".\" + exp + \".\" + mant\r\n",
    "\r\n",
    "decimalIEEE32(6.625)\r\n"
   ],
   "outputs": [
    {
     "output_type": "execute_result",
     "data": {
      "text/plain": [
       "'0.10000001.10101000000000000000000'"
      ]
     },
     "metadata": {},
     "execution_count": 4
    }
   ],
   "metadata": {}
  },
  {
   "cell_type": "markdown",
   "source": [
    "### **4. IEEE 754 de 32 bits a decimal**"
   ],
   "metadata": {}
  },
  {
   "cell_type": "code",
   "execution_count": 5,
   "source": [
    "def ieeeDecimal32(n):\r\n",
    "    \"\"\"\r\n",
    "    Convierte de formato IEEE de 32 bits a decimal\r\n",
    "\r\n",
    "    Parameters\r\n",
    "    ----------\r\n",
    "    n : String\r\n",
    "    Cadena de caracteres, debe ser un número en formato IEEE de 32 bits. \r\n",
    "\r\n",
    "    Returns\r\n",
    "    -------\r\n",
    "    int:\r\n",
    "    Devuelve el valor del número en formato IEEE de 32 bits convertido a decimal.\r\n",
    "    \"\"\"\r\n",
    "    # Bit de signo\r\n",
    "    signo = int(n[0])\r\n",
    "\r\n",
    "    # Se calcula el exponente con el rango desde el bit 2 al 10\r\n",
    "    # convirtiendo el número a entero y restandole los 127 del formato IEEE\r\n",
    "    exp = int(n[2:10], 2) - 127\r\n",
    "\r\n",
    "\r\n",
    "    # Se convierte la mantisa a decimal\r\n",
    "    mant = convertirMant(n[11:])\r\n",
    "\r\n",
    "    # Se eleva -1 por el signo para dar el signo final del decimal\r\n",
    "    # Se eleva 2 por el exponente encontrado y se multiplica por la mantisa\r\n",
    "    dec = pow(-1, signo) * mant * pow(2, exp)\r\n",
    "\r\n",
    "    # Retorna el número en formato decimal \r\n",
    "    return dec\r\n",
    "\r\n",
    "ieeeDecimal32(\"0.10000100.11111000000000000000000\")\r\n"
   ],
   "outputs": [
    {
     "output_type": "execute_result",
     "data": {
      "text/plain": [
       "63.0"
      ]
     },
     "metadata": {},
     "execution_count": 5
    }
   ],
   "metadata": {}
  },
  {
   "cell_type": "markdown",
   "source": [
    "### **5. Binario a IEEE 754 de 32 bits**"
   ],
   "metadata": {}
  },
  {
   "cell_type": "code",
   "execution_count": 6,
   "source": [
    "def binarioIEEE32(n): \r\n",
    "    '''\r\n",
    "    Convierte un número binario a formato IEE de 32 bits, \r\n",
    "    se hace uso de funciones anteriores para realizar la conversión, \r\n",
    "    por favor, lea la documentación de las funciones utilizadas. \r\n",
    "\r\n",
    "    - binarioDecimal() \r\n",
    "    - decimalIEEE32()\r\n",
    "\r\n",
    "    Parameters\r\n",
    "    ----------\r\n",
    "    n : String\r\n",
    "    Cadena de caracteres, debe ser un número en formato binario. \r\n",
    "\r\n",
    "    Returns\r\n",
    "    -------\r\n",
    "    String:\r\n",
    "    Devuelve el valor del número binario a formato IEEE de 32 bits.\r\n",
    "    '''\r\n",
    "\r\n",
    "    # Utiliza el método para convertir en binario ingresado a decimal\r\n",
    "    dec = binarioDecimal(n, len(n)) \r\n",
    "\r\n",
    "    # Utiliza el método para convertir el decimal a IEEE de 32 bits. \r\n",
    "    return decimalIEEE32(dec)\r\n",
    "    \r\n",
    "binarioIEEE32(\"110.101\")"
   ],
   "outputs": [
    {
     "output_type": "execute_result",
     "data": {
      "text/plain": [
       "'0.10000001.10101000000000000000000'"
      ]
     },
     "metadata": {},
     "execution_count": 6
    }
   ],
   "metadata": {}
  },
  {
   "cell_type": "markdown",
   "source": [
    "### **6. IEEE 754 de 32 bits a binario**"
   ],
   "metadata": {}
  },
  {
   "cell_type": "code",
   "execution_count": 7,
   "source": [
    "def ieeeBinario32(n):\r\n",
    "    '''\r\n",
    "    Convierte un formato IEE de 32 bits a número binario , \r\n",
    "    se hace uso de funciones anteriores para realizar la conversión, \r\n",
    "    por favor, lea la documentación de las funciones utilizadas. \r\n",
    "\r\n",
    "    - ieeeDecimal32() \r\n",
    "    - decimalBinario()\r\n",
    "\r\n",
    "    Parameters\r\n",
    "    ----------\r\n",
    "    n : String\r\n",
    "    Cadena de caracteres, debe ser un número en formato IEE de 32 bits . \r\n",
    "\r\n",
    "    Returns\r\n",
    "    -------\r\n",
    "    String:\r\n",
    "    Devuelve el valor del formato IEEE de 32 bits a número binario.\r\n",
    "    '''\r\n",
    "    # Utiliza el método para convertir de formato IEEE de 32 bits a decimal.\r\n",
    "    dec = ieeeDecimal32(n)\r\n",
    "    # Utiliza el método para convertir decimal a número binario. \r\n",
    "    return (decimalBinario(dec))\r\n",
    "\r\n",
    "ieeeBinario32(\"0.10000100.11111000000000000000000\")"
   ],
   "outputs": [
    {
     "output_type": "execute_result",
     "data": {
      "text/plain": [
       "'111111.'"
      ]
     },
     "metadata": {},
     "execution_count": 7
    }
   ],
   "metadata": {}
  },
  {
   "cell_type": "markdown",
   "source": [
    "### **7. Decimal a IEEE 754 de 64 bits**"
   ],
   "metadata": {}
  },
  {
   "cell_type": "code",
   "execution_count": 8,
   "source": [
    "def decimalIEEE64(num):\r\n",
    "    '''\r\n",
    "    Función que obtiene el bit de signo,\r\n",
    "    el exponente y la mantisa de un número\r\n",
    "    decimal. \r\n",
    "\r\n",
    "    Utiliza la funcion fraccion() para convetir la parte fraccionaria\r\n",
    "    a número binario.\r\n",
    "\r\n",
    "    Parameters\r\n",
    "    ----------\r\n",
    "    num : String\r\n",
    "    Cadena de caracteres, debe ser un número en formato decimal.\r\n",
    "\r\n",
    "    Returns\r\n",
    "    -------\r\n",
    "    String:\r\n",
    "    Devuelve el valor del número decimal en formato IEEE de 64 bits.\r\n",
    "    \r\n",
    "    '''\r\n",
    "\r\n",
    "    # Asigna 0 por defecto al bit de signo\r\n",
    "    signo = 0\r\n",
    "\r\n",
    "    # Si el número es negativo asigna 1 al \r\n",
    "    # bit de signo\r\n",
    "    if num < 0:\r\n",
    "        signo = 1\r\n",
    "    # Convierte el número dado a su valor absoluto.\r\n",
    "    num = abs(num)\r\n",
    "\r\n",
    "    # Convierte la parte entera a binario\r\n",
    "    # desde el bit dos para eliminar el '0b' por defecto\r\n",
    "    entero = bin(int(num))[2:]\r\n",
    "\r\n",
    "    # Convierte la parte fraccionaria a binario\r\n",
    "    frac = fraccion(num - int(num))\r\n",
    "\r\n",
    "    # Obtiene el indice donde el bit fue alto por\r\n",
    "    # primera vez en la parte entera del número. \r\n",
    "    ind = entero.find(\"1\")\r\n",
    "\r\n",
    "    # Encontramos el exponente, se convierte a \r\n",
    "    # binario y se elimina el '0b'\r\n",
    "    exp = bin((len(entero) - ind - 1) + 1023)[2:]\r\n",
    "\r\n",
    "\r\n",
    "    # Se obtiene la mantisa haciendo uso \r\n",
    "    # de la parte entera y fraccionaria,\r\n",
    "    # Se ignoras los ceros a la izquierda del entero\r\n",
    "    mant = entero[ind + 1 :] + frac\r\n",
    "\r\n",
    "    # Añade 0 hasta completar los 23 bits de la mantisa\r\n",
    "    mant = mant + (\"0\" * (52 - len(mant)))\r\n",
    "    print((\"0\" * (52 - len(mant))))\r\n",
    "    # Retorna el número en formato IEEE de 32 bits\r\n",
    "    return str(signo) + \".\" + exp + \".\" + mant\r\n",
    "\r\n",
    "decimalIEEE64(6.625)"
   ],
   "outputs": [
    {
     "output_type": "stream",
     "name": "stdout",
     "text": [
      "\n"
     ]
    },
    {
     "output_type": "execute_result",
     "data": {
      "text/plain": [
       "'0.10000000001.1010100000000000000000000000000000000000000000000000'"
      ]
     },
     "metadata": {},
     "execution_count": 8
    }
   ],
   "metadata": {}
  },
  {
   "cell_type": "markdown",
   "source": [
    "### **8. IEEE 754 de 64 bits a decimal**"
   ],
   "metadata": {}
  },
  {
   "cell_type": "code",
   "execution_count": 9,
   "source": [
    "def ieeeDecimal64(n):\r\n",
    "    \"\"\"\r\n",
    "    Convierte de formato IEEE de 64 bits a decimal\r\n",
    "\r\n",
    "    Parameters\r\n",
    "    ----------\r\n",
    "    n : String\r\n",
    "    Cadena de caracteres, debe ser un número en formato IEEE de 64 bits. \r\n",
    "\r\n",
    "    Returns\r\n",
    "    -------\r\n",
    "    String:\r\n",
    "    Devuelve el valor del número en formato IEEE de 64 bits convertido a decimal.\r\n",
    "    \"\"\"\r\n",
    "    # Bit de signo\r\n",
    "    signo = int(n[0])\r\n",
    "\r\n",
    "    # Se calcula el exponente con el rango desde el bit 2 al 10\r\n",
    "    # convirtiendo el número a entero y restandole los 127 del formato IEEE\r\n",
    "    exp = int(n[2:13], 2) - 1023\r\n",
    "\r\n",
    "\r\n",
    "    # Se convierte la mantisa a decimal\r\n",
    "    mant = convertirMant(n[14:])\r\n",
    "\r\n",
    "    # Se eleva -1 por el signo para dar el signo final del decimal\r\n",
    "    # Se eleva 2 por el exponente encontrado y se multiplica por la mantisa\r\n",
    "    dec = pow(-1, signo) * mant * pow(2, exp)\r\n",
    "\r\n",
    "    # Retorna el número en formato decimal \r\n",
    "    return dec\r\n",
    "\r\n",
    "ieeeDecimal64(\"0.10000000001.1010100000000000000000000000000000000000000000000000\")"
   ],
   "outputs": [
    {
     "output_type": "execute_result",
     "data": {
      "text/plain": [
       "6.625"
      ]
     },
     "metadata": {},
     "execution_count": 9
    }
   ],
   "metadata": {}
  },
  {
   "cell_type": "markdown",
   "source": [
    "### **9. Binario a IEEE 754 de 64 bits**"
   ],
   "metadata": {}
  },
  {
   "cell_type": "code",
   "execution_count": 10,
   "source": [
    "def binarioIEEE64(n): \r\n",
    "    '''\r\n",
    "    Convierte un número binario a formato IEE de 64 bits, \r\n",
    "    se hace uso de funciones anteriores para realizar la conversión, \r\n",
    "    por favor, lea la documentación de las funciones utilizadas. \r\n",
    "\r\n",
    "    - binarioDecimal() \r\n",
    "    - decimalIEEE64()\r\n",
    "\r\n",
    "    Parameters\r\n",
    "    ----------\r\n",
    "    n : String\r\n",
    "    Cadena de caracteres, debe ser un número en formato binario. \r\n",
    "\r\n",
    "    Returns\r\n",
    "    -------\r\n",
    "    String:\r\n",
    "    Devuelve el valor del número binario a formato IEEE de 64 bits.\r\n",
    "    '''\r\n",
    "\r\n",
    "    # Utiliza el método para convertir en binario ingresado a decimal\r\n",
    "    dec = binarioDecimal(n, len(n)) \r\n",
    "\r\n",
    "    # Utiliza el método para convertir el decimal a IEEE de 32 bits. \r\n",
    "    return decimalIEEE64(dec)\r\n",
    "    \r\n",
    "binarioIEEE64(\"110.101\")"
   ],
   "outputs": [
    {
     "output_type": "stream",
     "name": "stdout",
     "text": [
      "\n"
     ]
    },
    {
     "output_type": "execute_result",
     "data": {
      "text/plain": [
       "'0.10000000001.1010100000000000000000000000000000000000000000000000'"
      ]
     },
     "metadata": {},
     "execution_count": 10
    }
   ],
   "metadata": {}
  },
  {
   "cell_type": "markdown",
   "source": [
    "### **10. IEEE 754 de 64 bits a binario**"
   ],
   "metadata": {}
  },
  {
   "cell_type": "code",
   "execution_count": 11,
   "source": [
    "def ieeeBinario64(n):\r\n",
    "    '''\r\n",
    "    Convierte un formato IEE de 64 bits a número binario , \r\n",
    "    se hace uso de funciones anteriores para realizar la conversión, \r\n",
    "    por favor, lea la documentación de las funciones utilizadas. \r\n",
    "\r\n",
    "    - ieeeDecimal64() \r\n",
    "    - decimalBinario()\r\n",
    "\r\n",
    "    Parameters\r\n",
    "    ----------\r\n",
    "    n : String\r\n",
    "    Cadena de caracteres, debe ser un número en formato IEE de 64 bits . \r\n",
    "\r\n",
    "    Returns\r\n",
    "    -------\r\n",
    "    String:\r\n",
    "    Devuelve el valor del formato IEEE de 64 bits a número binario.\r\n",
    "    '''\r\n",
    "    # Utiliza el método para convertir de formato IEEE de 32 bits a decimal.\r\n",
    "    dec = ieeeDecimal64(n)    \r\n",
    "    # Utiliza el método para convertir decimal a número binario. \r\n",
    "    return (decimalBinario(dec, 3))\r\n",
    "\r\n",
    "ieeeBinario64(\"0.10000000001.1010100000000000000000000000000000000000000000000000\")"
   ],
   "outputs": [
    {
     "output_type": "execute_result",
     "data": {
      "text/plain": [
       "'110.101'"
      ]
     },
     "metadata": {},
     "execution_count": 11
    }
   ],
   "metadata": {}
  },
  {
   "cell_type": "markdown",
   "source": [
    "### **11. Binario a hexadecimal**"
   ],
   "metadata": {}
  },
  {
   "cell_type": "code",
   "execution_count": 12,
   "source": [
    "def binarioHexadecimal(n):\r\n",
    "    '''\r\n",
    "    Convierte un número binario a hexadecimal, se hace uso de un diccionario\r\n",
    "    para saber el significado de cada cuarteto binario.\r\n",
    "\r\n",
    "    Parameters\r\n",
    "    ----------\r\n",
    "    n : String\r\n",
    "    Cadena de caracteres, debe ser un número en formato binario. \r\n",
    "\r\n",
    "    Returns\r\n",
    "    -------\r\n",
    "    String:\r\n",
    "    Devuelve el valor del numero binario en hexadecimal.\r\n",
    "    '''\r\n",
    "    dic = { '0000' : '0', '0001' : '1', '0010' : '2', '0011' : '3', '0100' : '4',\r\n",
    "           '0101' : '5', '0110' : '6', '0111' : '7', '1000' : '8', '1001' : '9',\r\n",
    "           '1010' : 'A', '1011' : 'B', '1100' : 'C', '1101' : 'D', '1110' : 'E',\r\n",
    "           '1111' : 'F'}\r\n",
    "    \r\n",
    "    iterador = len(n)\r\n",
    "    #Variables que se usa en caso de tener que completar un cuarteto\r\n",
    "    #Guarda el numero de 0\r\n",
    "    falta = 0\r\n",
    "    #Almacena el cuarteto\r\n",
    "    aux = ''\r\n",
    "    #Variable para guardar el resultado\r\n",
    "    conv = ''\r\n",
    "    \r\n",
    "    #En cada iteracion coje de a 4 numeros y lo busca en el diccionario\r\n",
    "    #La var iterador se usa para saber que rango de numeros se debe tomar\r\n",
    "    while iterador > 0:\r\n",
    "\r\n",
    "        if iterador >= 4:\r\n",
    "            #Se guarda en conv la busqueda en el diccionario con el iterador\r\n",
    "            conv = dic[n[iterador - 4: iterador]] + conv\r\n",
    "            iterador = iterador - 4\r\n",
    "        #Se usa este condicional en caso e que falten numeros para completar el grupo de 4\r\n",
    "        elif 0 < iterador < 4:\r\n",
    "            falta = 4 - iterador\r\n",
    "            #Se carga la var aux con el rango que datos que queda\r\n",
    "            aux = n[0 : iterador]\r\n",
    "            #Se rellena la val aux con los 0 que hagan falta\r\n",
    "            while falta > 0:\r\n",
    "                aux = '0' + aux\r\n",
    "                falta -= 1\r\n",
    "            iterador = 0\r\n",
    "            conv = dic[aux] + conv\r\n",
    "    return conv\r\n",
    "    \r\n",
    "print(binarioHexadecimal('110101001011'))"
   ],
   "outputs": [
    {
     "output_type": "stream",
     "name": "stdout",
     "text": [
      "D4B\n"
     ]
    }
   ],
   "metadata": {}
  },
  {
   "cell_type": "markdown",
   "source": [
    "### **12. Hexadecimal a binario**"
   ],
   "metadata": {}
  },
  {
   "cell_type": "code",
   "execution_count": 13,
   "source": [
    "def HexaBin(n):\r\n",
    "    '''\r\n",
    "    Convierte un número hexadecimal a binario, se hace uso de un diccionario\r\n",
    "    para saber el significado de cada valor hexadecimal.\r\n",
    "\r\n",
    "    Parameters\r\n",
    "    ----------\r\n",
    "    n : String\r\n",
    "    Cadena de caracteres, debe ser un número en formato hexadecimal. \r\n",
    "\r\n",
    "    Returns\r\n",
    "    -------\r\n",
    "    String:\r\n",
    "    Devuelve el valor del numero hexadecimal en binario.\r\n",
    "    '''\r\n",
    "    dic = { '0' : '0000', '1' : '0001', '2' : '0010', '3' : '0011', '4' : '0100', \r\n",
    "            '5' : '0101', '6' : '0110', '7' : '0111', '8' : '1000', '9' : '1001',\r\n",
    "            'A' : '1010', 'B' : '1011', 'C' : '1100', 'D' : '1101', 'E' : '1110', \r\n",
    "            'F' : '1111'}\r\n",
    "    #Variable para guardar el resultado\r\n",
    "    conv = ''\r\n",
    "\r\n",
    "    #En cada iteracion se busca la clave en el diccionario y se acumula en conv\r\n",
    "    for i in range(len(n)):\r\n",
    "        conv += dic[n[i].upper()] + \" \"\r\n",
    "    \r\n",
    "    return conv\r\n",
    "\r\n",
    "print(HexaBin('1254A'))"
   ],
   "outputs": [
    {
     "output_type": "stream",
     "name": "stdout",
     "text": [
      "0001 0010 0101 0100 1010 \n"
     ]
    }
   ],
   "metadata": {}
  },
  {
   "cell_type": "markdown",
   "source": [
    "### **13. Decimal a hexadecimal**"
   ],
   "metadata": {}
  },
  {
   "cell_type": "code",
   "execution_count": 14,
   "source": [
    "import math\r\n",
    "\r\n",
    "def dec2hex(value):\r\n",
    "    '''\r\n",
    "    Convierte un número decimal en hexadecimal\r\n",
    "    Parámetros:\r\n",
    "      value - número decimal positivo\r\n",
    "\r\n",
    "    Excepciones: \r\n",
    "      ValueError -- si value no es un número decimal mayor que 0\r\n",
    "      \r\n",
    "    Return:\r\n",
    "      String: Número hexadecimal\r\n",
    "    '''\r\n",
    "\r\n",
    "    try:\r\n",
    "      float(value)\r\n",
    "    except ValueError:\r\n",
    "      return 'Ingrese un número decimal válido'\r\n",
    "\r\n",
    "    if float(value) <= 0:\r\n",
    "      return 'Ingrese un número mayor que 0'\r\n",
    "\r\n",
    "    fraction, whole = math.modf(float(value))\r\n",
    "    hex = \"\"\r\n",
    "\r\n",
    "    # Parte entera\r\n",
    "    while whole > 0:\r\n",
    "        residue = whole % 16\r\n",
    "        letterHex = getLetterHex(residue)\r\n",
    "        hex = letterHex + hex\r\n",
    "        whole = int(whole / 16)\r\n",
    "\r\n",
    "    # Fracción\r\n",
    "    if(fraction > 0.0):\r\n",
    "      hex = hex.split(\".\")[0] + '.'\r\n",
    "\r\n",
    "    while fraction > 0:\r\n",
    "      fraction = fraction * 16\r\n",
    "      fractional, integer = math.modf(fraction)\r\n",
    "      letterFraction = getLetterHex(str(integer).split(\".\")[0])\r\n",
    "      hex = hex + letterFraction\r\n",
    "      fraction = fractional\r\n",
    "\r\n",
    "    return hex\r\n",
    "\r\n",
    "dec2hex('123.46')"
   ],
   "outputs": [
    {
     "output_type": "execute_result",
     "data": {
      "text/plain": [
       "'711.75C28F5C28F4'"
      ]
     },
     "metadata": {},
     "execution_count": 14
    }
   ],
   "metadata": {}
  },
  {
   "cell_type": "markdown",
   "source": [
    "### **14. Hexadecimal a decimal**"
   ],
   "metadata": {}
  },
  {
   "cell_type": "code",
   "execution_count": 15,
   "source": [
    "def hex2dec(value):\r\n",
    "  '''\r\n",
    "    Convierte un número hexadecimal en decimal\r\n",
    "    Parámetros:\r\n",
    "      value - número hexadecimal positivo\r\n",
    "      \r\n",
    "    Return:\r\n",
    "      Float: Número decimal\r\n",
    "  '''\r\n",
    "\r\n",
    "  if not is_hex(value):\r\n",
    "    return 'Ingrese un número hexadecimal válido'\r\n",
    "  \r\n",
    "  number = 0\r\n",
    "  if '.' in value:\r\n",
    "    whole, fraction = value.split('.')\r\n",
    "  else:\r\n",
    "    whole, fraction = value, ''\r\n",
    "\r\n",
    "  # parte entera\r\n",
    "  for i in range(len(whole)):\r\n",
    "    power = (len(whole) - (i + 1))\r\n",
    "    number = number + float(getNumberHex(whole[i])) * (16 ** power)\r\n",
    "\r\n",
    "  # parte fraccionaria\r\n",
    "  for i in range(len(fraction)):\r\n",
    "    power = ((i + 1) * -1)\r\n",
    "    number = number + float(getNumberHex(fraction[i])) * (16 ** power)\r\n",
    "  return number\r\n",
    "\r\n",
    "hex2dec('1a.b')"
   ],
   "outputs": [
    {
     "output_type": "execute_result",
     "data": {
      "text/plain": [
       "26.6875"
      ]
     },
     "metadata": {},
     "execution_count": 15
    }
   ],
   "metadata": {}
  },
  {
   "cell_type": "markdown",
   "source": [
    "### **15. Decimal a IEEE Hex**"
   ],
   "metadata": {}
  },
  {
   "cell_type": "code",
   "execution_count": 16,
   "source": [
    "def dec2IEEEhex(value):\r\n",
    "    '''\r\n",
    "    Convierte un número decimal en IEEE 754 32 Bits Hex\r\n",
    "    Parámetros:\r\n",
    "      value - número decimal\r\n",
    "\r\n",
    "    Excepciones: \r\n",
    "      ValueError -- si value no es un número decimaL\r\n",
    "      \r\n",
    "    Return:\r\n",
    "      String: Número hexadecimal\r\n",
    "    '''\r\n",
    "\r\n",
    "    try:\r\n",
    "      float(value)\r\n",
    "    except ValueError:\r\n",
    "      return 'Ingrese un número decimal válido'\r\n",
    "\r\n",
    "    n = decimalIEEE32(value)\r\n",
    "    return binarioHexadecimal(n.replace('.', ''))\r\n",
    "    \r\n",
    "dec2IEEEhex(100.65625)\r\n",
    "    "
   ],
   "outputs": [
    {
     "output_type": "execute_result",
     "data": {
      "text/plain": [
       "'42C95000'"
      ]
     },
     "metadata": {},
     "execution_count": 16
    }
   ],
   "metadata": {}
  },
  {
   "cell_type": "markdown",
   "source": [
    "### **16. IEEE Hex a decimal**"
   ],
   "metadata": {}
  },
  {
   "cell_type": "code",
   "execution_count": 17,
   "source": [
    "def IEEEhex2dec(value):\r\n",
    "    '''\r\n",
    "    Convierte un número IEEE 754 32 Bits Hex en decimal\r\n",
    "    Parámetros:\r\n",
    "        value - número hexadecimal\r\n",
    "\r\n",
    "    Return:\r\n",
    "        Float: Número decimal\r\n",
    "    '''\r\n",
    "\r\n",
    "    if not is_hex(value):\r\n",
    "        return 'Ingrese un número hexadecimal válido'\r\n",
    "    \r\n",
    "    n = HexaBin(value)\r\n",
    "    n = n.replace(' ', '')\r\n",
    "    n = n[:1] + '.' + n[1:]\r\n",
    "    n = n[:10] + '.' + n[10:]\r\n",
    "    return ieeeDecimal32(n)\r\n",
    "\r\n",
    "IEEEhex2dec('C1C90000')"
   ],
   "outputs": [
    {
     "output_type": "execute_result",
     "data": {
      "text/plain": [
       "-25.125"
      ]
     },
     "metadata": {},
     "execution_count": 17
    }
   ],
   "metadata": {}
  },
  {
   "cell_type": "markdown",
   "source": [
    "# Programa principal \r\n",
    "\r\n",
    "## Selecciona la opción deseada, y luego ingresa el número a convertir en el formato adecuado"
   ],
   "metadata": {}
  },
  {
   "cell_type": "code",
   "execution_count": 20,
   "source": [
    "def main():\r\n",
    "    loop_condition=True\r\n",
    "    print(\"\\nBienvenido al convertirdor de formatos de números!\\n\")\r\n",
    "    print(\"\\nIngresa el número del tipo de conversión que desean realizar.\\n\")\r\n",
    "    print(\"Ingresa 1 para convertir de Decimal a Binario.\")\r\n",
    "    print(\"Ingresa 2 para convertir de Binario a Decimal.\")\r\n",
    "    print(\"Ingresa 3 para convertir de Decimal a IEEE32.\")\r\n",
    "    print(\"Ingresa 4 para convertir de IEEE32 a Decimal.\")\r\n",
    "    print(\"Ingresa 5 para convertir de Binario a IEEE32.\")\r\n",
    "    print(\"Ingresa 6 para convertir de IEEE32 a Binario.\")\r\n",
    "    print(\"Ingresa 7 para convertir de Decimal a IEEE64.\")\r\n",
    "    print(\"Ingresa 8 para convertir de IEEE64 a Decimal.\")\r\n",
    "    print(\"Ingresa 9 para convertir de Binario a IEEE64.\")\r\n",
    "    print(\"Ingresa 10 para convertir de IEEE64 a Binario.\")\r\n",
    "    print(\"Ingresa 11 para convertir de Binario a Hexadecimal.\")\r\n",
    "    print(\"Ingresa 12 para convertir de Hexadecimal a Binario.\")\r\n",
    "    print(\"Ingresa 13 para convertir de Decimal a Hexadecimal.\")\r\n",
    "    print(\"Ingresa 14 para convertir de Hexadecimal a Decimal.\")\r\n",
    "    print(\"Ingresa 15 para convertir de Decimal a IEEEHex.\")\r\n",
    "    print(\"Ingresa 16 para convertir de IEEHex a Decimal.\")\r\n",
    "    print(\"Ingresa 17 para salir.\\n\")\r\n",
    "    while loop_condition:\r\n",
    "        main_input = input(\"¿Qué tipo de conversión deseas realizar?\")\r\n",
    "\r\n",
    "        if main_input == \"17\":\r\n",
    "            loop_condition = False\r\n",
    "            break\r\n",
    "        elif main_input == \"1\":\r\n",
    "            num = int(input(\"Ingresa el número decimal a convertir\"))\r\n",
    "            k = int(input(\"Ingresa la presición deseada para los decimales\"))\r\n",
    "            print(f'El número {num} convertido a binario es:',decimalBinario(num, k))\r\n",
    "        elif main_input == \"2\":\r\n",
    "            num = input(\"Ingresa el número binario a convertir\")\r\n",
    "            print(f'El número {num} convertido a decimal es:', binarioDecimal(num, len(num)))\r\n",
    "        elif main_input == \"3\":\r\n",
    "            num = int(input(\"Ingresa el número binario a convertir\"))\r\n",
    "            print(f'El número {num} convertido a IEEE32 es:', decimalIEEE32(num))\r\n",
    "        elif main_input == \"4\":\r\n",
    "            num = input(\"Ingresa el número en IEEE32 a convertir\")\r\n",
    "            print(f'El número {num} convertido a Decimal es:', ieeeDecimal32(num))\r\n",
    "        elif main_input == \"5\":\r\n",
    "            num = input(\"Ingresa el número binario a convertir\")\r\n",
    "            print(f'El número {num} convertido a IEEE32 es:', binarioIEEE32(num))\r\n",
    "        elif main_input == \"6\":\r\n",
    "            num = input(\"Ingresa el número en IEEE32 a convertir\")\r\n",
    "            print(f'El número {num} convertido a Binario es:', ieeeBinario32(num))\r\n",
    "        elif main_input == \"7\":\r\n",
    "            num = int(input(\"Ingresa el número en Decimal a convertir\"))\r\n",
    "            print(f'El número {num} convertido a IEEE64 es:', decimalIEEE64(num))\r\n",
    "        elif main_input == \"8\":\r\n",
    "            num = input(\"Ingresa el número en IEEE64 a convertir\")\r\n",
    "            print(f'El número {num} convertido a Decimal es:', ieeeDecimal64(num))\r\n",
    "        elif main_input == \"9\":\r\n",
    "            num = input(\"Ingresa el número en Binario a convertir\")\r\n",
    "            print(f'El número {num} convertido a IEEE64 es:', binarioIEEE64(num))\r\n",
    "        elif main_input == \"10\":\r\n",
    "            num = input(\"Ingresa el número en IEEE64 a convertir\")\r\n",
    "            print(f'El número {num} convertido a Binario es:', ieeeBinario64(num))\r\n",
    "        elif main_input == \"11\":\r\n",
    "            num = input(\"Ingresa el número en Binario a convertir\")\r\n",
    "            print(f'El número {num} convertido a Hexadecimal es:', binarioHexadecimal(num))\r\n",
    "        elif main_input == \"12\":\r\n",
    "            num = input(\"Ingresa el número en Hexadecimal a convertir\")\r\n",
    "            print(f'El número {num} convertido a Binario es:', HexaBin(num))\r\n",
    "        elif main_input == \"13\":\r\n",
    "            num = input(\"Ingresa el número en Decimal a convertir\")\r\n",
    "            print(f'El número {num} convertido a Hexadecimal es:', dec2hex(num))\r\n",
    "        elif main_input == \"14\":\r\n",
    "            num = input(\"Ingresa el número en Hexadecimal a convertir\")\r\n",
    "            print(f'El número {num} convertido a Decimal es:', hex2dec(num))\r\n",
    "        elif main_input == \"15\":\r\n",
    "            num = float(input(\"Ingresa el número en Decimal a convertir\"))\r\n",
    "            print(f'El número {num} convertido a IEEHex es:', dec2IEEEhex(num))\r\n",
    "        elif main_input == \"16\":\r\n",
    "            num = input(\"Ingresa el número en IEEEHex a convertir\")\r\n",
    "            print(f'El número {num} convertido a Decimal es:', IEEEhex2dec(num))\r\n",
    "main()"
   ],
   "outputs": [
    {
     "output_type": "stream",
     "name": "stdout",
     "text": [
      "\n",
      "Bienvenido al convertirdor de formatos de números!\n",
      "\n",
      "\n",
      "Ingresa el número del tipo de conversión que desean realizar.\n",
      "\n",
      "Ingresa 1 para convertir de Decimal a Binario.\n",
      "Ingresa 2 para convertir de Binario a Decimal.\n",
      "Ingresa 3 para convertir de Decimal a IEEE32.\n",
      "Ingresa 4 para convertir de IEEE32 a Decimal.\n",
      "Ingresa 5 para convertir de Binario a IEEE32.\n",
      "Ingresa 6 para convertir de IEEE32 a Binario.\n",
      "Ingresa 7 para convertir de Decimal a IEEE64.\n",
      "Ingresa 8 para convertir de IEEE64 a Decimal.\n",
      "Ingresa 9 para convertir de Binario a IEEE64.\n",
      "Ingresa 10 para convertir de IEEE64 a Binario.\n",
      "Ingresa 11 para convertir de Binario a Hexadecimal.\n",
      "Ingresa 12 para convertir de Hexadecimal a Binario.\n",
      "Ingresa 13 para convertir de Decimal a Hexadecimal.\n",
      "Ingresa 14 para convertir de Hexadecimal a Decimal.\n",
      "Ingresa 15 para convertir de Decimal a IEEEHex.\n",
      "Ingresa 16 para convertir de IEEHex a Decimal.\n",
      "Ingresa 17 para salir.\n",
      "\n",
      "El número 123.123 convertido a IEEHex es: 085EC7DF3B645A1D\n",
      "El número 085EC7DF3B645A1D convertido a Decimal es: 6.70406433528198e-34\n"
     ]
    }
   ],
   "metadata": {}
  }
 ],
 "metadata": {
  "interpreter": {
   "hash": "07efdcd4b820c98a756949507a4d29d7862823915ec7477944641bea022f4f62"
  },
  "kernelspec": {
   "name": "python3",
   "display_name": "Python 3.8.5 64-bit ('base': conda)"
  },
  "language_info": {
   "codemirror_mode": {
    "name": "ipython",
    "version": 3
   },
   "file_extension": ".py",
   "mimetype": "text/x-python",
   "name": "python",
   "nbconvert_exporter": "python",
   "pygments_lexer": "ipython3",
   "version": "3.8.5"
  }
 },
 "nbformat": 4,
 "nbformat_minor": 2
}